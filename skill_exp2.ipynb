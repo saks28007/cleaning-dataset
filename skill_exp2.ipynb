{
  "nbformat": 4,
  "nbformat_minor": 0,
  "metadata": {
    "colab": {
      "private_outputs": true,
      "provenance": []
    },
    "kernelspec": {
      "name": "python3",
      "display_name": "Python 3"
    },
    "language_info": {
      "name": "python"
    }
  },
  "cells": [
    {
      "cell_type": "code",
      "execution_count": null,
      "metadata": {
        "id": "lnx0525WZ5FD"
      },
      "outputs": [],
      "source": [
        "#EXP 2: CLEANING\n",
        "\n",
        "import pandas as pd\n",
        "\n",
        "df=pd.read_csv('/content/drive/MyDrive/Rotten Tomatoes Movies.csv')\n",
        "print(df.columns)\n",
        "\n",
        "#Data Cleaning\n",
        "print(\"Checking for null values(is null)\")\n",
        "df.isnull().sum()\n",
        "\n",
        "print(\"Checking for null values(not null)\")\n",
        "df.notnull().sum()\n",
        "\n",
        "print(\"Checking for duplicated values\")\n",
        "df.duplicated().sum()\n",
        "\n",
        "print(\"After dropping duplicated values\")\n",
        "df.drop_duplicates()\n",
        "\n",
        "#Handling Outliers\n",
        "df.columns=df.columns.str.strip()\n",
        "print(\"Column Names:\",df.columns)\n",
        "\n",
        "q1=df['audience_count'].quantile(0.25)\n",
        "q3=df['audience_count'].quantile(0.75)\n",
        "iqr = q3 - q1\n",
        "\n",
        "lower_bound = q1 - 1.5*iqr\n",
        "upper_bound = q3 + 1.5*iqr\n",
        "\n",
        "df_clean = df[(df['audience_count'] >=lower_bound) & (df['audience_count'] <=upper_bound)]\n",
        "\n",
        "df_clean.to_csv(\"/content/drive/MyDrive/cleaned_movies.csv\", index=False)\n",
        "print(\" Outliers removed! Cleaned data saved as 'cleaned_movies.csv'.\")"
      ]
    }
  ]
}